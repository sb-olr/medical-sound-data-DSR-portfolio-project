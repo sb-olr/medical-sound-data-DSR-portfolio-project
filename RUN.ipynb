{
 "cells": [
  {
   "cell_type": "code",
   "execution_count": null,
   "source": [
    "# Colab\r\n",
    "'''\r\n",
    "from google.colab import drive\r\n",
    "drive.mount('/content/gdrive')\r\n",
    "%cd gdrive/MyDrive/dance_generator/medical-sound-data-DSR-portfolio-project\r\n",
    "!pip install -r requirements.txt\r\n",
    "'''"
   ],
   "outputs": [],
   "metadata": {}
  },
  {
   "cell_type": "code",
   "execution_count": null,
   "source": [
    "from data_prepration import Data\r\n",
    "from train import Train"
   ],
   "outputs": [],
   "metadata": {}
  },
  {
   "cell_type": "code",
   "execution_count": null,
   "source": [
    "#Config\r\n",
    "file_name = './CoronaHack-Respiratory-Sound-Dataset/Corona-Hack-Respiratory-Sound-Metadata.csv'\r\n",
    "base_path = './CoronaHack-Respiratory-Sound-Dataset'\r\n",
    "names = ['counting-normal']\r\n",
    "name_labels= 'split'\r\n",
    "image_target_height = 28\r\n",
    "image_target_width = 28\r\n",
    "model_name = 'autoencoder'\r\n",
    "latent_dim = 2\r\n",
    "batch_size = 256\r\n",
    "epochs = 20\r\n",
    "adam_learning_rate = 0.001"
   ],
   "outputs": [],
   "metadata": {}
  },
  {
   "cell_type": "code",
   "execution_count": null,
   "source": [
    "# read meta data \r\n",
    "data_obj = Data(file_name=file_name)\r\n",
    "df_meta = data_obj.create_df()\r\n",
    "# train\r\n",
    "train_obj = Train(base_path=base_path,df =df_meta,names=names,name_labels=name_labels,image_target_height=image_target_height,image_target_width=image_target_width)\r\n",
    "history = train_obj.train(model_name=model_name,latent_dim=latent_dim,learning_rate=adam_learning_rate,batch_size=batch_size,epochs=epochs)"
   ],
   "outputs": [],
   "metadata": {}
  }
 ],
 "metadata": {
  "orig_nbformat": 4,
  "language_info": {
   "name": "python",
   "version": "3.6.13",
   "mimetype": "text/x-python",
   "codemirror_mode": {
    "name": "ipython",
    "version": 3
   },
   "pygments_lexer": "ipython3",
   "nbconvert_exporter": "python",
   "file_extension": ".py"
  },
  "kernelspec": {
   "name": "python3",
   "display_name": "Python 3.6.13 64-bit ('corona': conda)"
  },
  "interpreter": {
   "hash": "8e06dae36da5af555d220c5b5d98ac2c0ea1251ccd3307154d7e0f059350ea4f"
  }
 },
 "nbformat": 4,
 "nbformat_minor": 2
}